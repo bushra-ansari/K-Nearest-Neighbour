{
 "cells": [
  {
   "cell_type": "code",
   "execution_count": 1,
   "id": "9a830980",
   "metadata": {},
   "outputs": [],
   "source": [
    "import os\n",
    "import pandas as pd\n",
    "import numpy as np\n",
    "import matplotlib.pyplot as plt\n",
    "import seaborn as sns\n",
    "from sklearn.model_selection import train_test_split\n",
    "from sklearn import metrics\n",
    "from sklearn.neighbors import KNeighborsClassifier"
   ]
  },
  {
   "cell_type": "code",
   "execution_count": 2,
   "id": "c1af50be",
   "metadata": {},
   "outputs": [],
   "source": [
    "os.chdir(r'C:\\Users\\Bushra Ansari\\Desktop\\LMS DATASET\\KNN\\Market Positioning of Mobile')"
   ]
  },
  {
   "cell_type": "code",
   "execution_count": 3,
   "id": "f80f2a88",
   "metadata": {},
   "outputs": [
    {
     "data": {
      "text/plain": [
       "['Mobile_data.csv', 'Problem Statement_KNN.pdf']"
      ]
     },
     "execution_count": 3,
     "metadata": {},
     "output_type": "execute_result"
    }
   ],
   "source": [
    "os.listdir()"
   ]
  },
  {
   "cell_type": "code",
   "execution_count": 4,
   "id": "df3b0f62",
   "metadata": {},
   "outputs": [
    {
     "data": {
      "text/html": [
       "<div>\n",
       "<style scoped>\n",
       "    .dataframe tbody tr th:only-of-type {\n",
       "        vertical-align: middle;\n",
       "    }\n",
       "\n",
       "    .dataframe tbody tr th {\n",
       "        vertical-align: top;\n",
       "    }\n",
       "\n",
       "    .dataframe thead th {\n",
       "        text-align: right;\n",
       "    }\n",
       "</style>\n",
       "<table border=\"1\" class=\"dataframe\">\n",
       "  <thead>\n",
       "    <tr style=\"text-align: right;\">\n",
       "      <th></th>\n",
       "      <th>battery_power</th>\n",
       "      <th>clock_speed</th>\n",
       "      <th>fc</th>\n",
       "      <th>int_memory</th>\n",
       "      <th>m_dep</th>\n",
       "      <th>mobile_wt</th>\n",
       "      <th>n_cores</th>\n",
       "      <th>pc</th>\n",
       "      <th>px_height</th>\n",
       "      <th>px_width</th>\n",
       "      <th>ram</th>\n",
       "      <th>sc_h</th>\n",
       "      <th>sc_w</th>\n",
       "      <th>talk_time</th>\n",
       "      <th>price_range</th>\n",
       "    </tr>\n",
       "  </thead>\n",
       "  <tbody>\n",
       "    <tr>\n",
       "      <th>0</th>\n",
       "      <td>842</td>\n",
       "      <td>2.2</td>\n",
       "      <td>1</td>\n",
       "      <td>7</td>\n",
       "      <td>0.6</td>\n",
       "      <td>188</td>\n",
       "      <td>2</td>\n",
       "      <td>2</td>\n",
       "      <td>20</td>\n",
       "      <td>756</td>\n",
       "      <td>2549</td>\n",
       "      <td>9</td>\n",
       "      <td>7</td>\n",
       "      <td>19</td>\n",
       "      <td>1</td>\n",
       "    </tr>\n",
       "    <tr>\n",
       "      <th>1</th>\n",
       "      <td>1021</td>\n",
       "      <td>0.5</td>\n",
       "      <td>0</td>\n",
       "      <td>53</td>\n",
       "      <td>0.7</td>\n",
       "      <td>136</td>\n",
       "      <td>3</td>\n",
       "      <td>6</td>\n",
       "      <td>905</td>\n",
       "      <td>1988</td>\n",
       "      <td>2631</td>\n",
       "      <td>17</td>\n",
       "      <td>3</td>\n",
       "      <td>7</td>\n",
       "      <td>2</td>\n",
       "    </tr>\n",
       "    <tr>\n",
       "      <th>2</th>\n",
       "      <td>563</td>\n",
       "      <td>0.5</td>\n",
       "      <td>2</td>\n",
       "      <td>41</td>\n",
       "      <td>0.9</td>\n",
       "      <td>145</td>\n",
       "      <td>5</td>\n",
       "      <td>6</td>\n",
       "      <td>1263</td>\n",
       "      <td>1716</td>\n",
       "      <td>2603</td>\n",
       "      <td>11</td>\n",
       "      <td>2</td>\n",
       "      <td>9</td>\n",
       "      <td>2</td>\n",
       "    </tr>\n",
       "    <tr>\n",
       "      <th>3</th>\n",
       "      <td>615</td>\n",
       "      <td>2.5</td>\n",
       "      <td>0</td>\n",
       "      <td>10</td>\n",
       "      <td>0.8</td>\n",
       "      <td>131</td>\n",
       "      <td>6</td>\n",
       "      <td>9</td>\n",
       "      <td>1216</td>\n",
       "      <td>1786</td>\n",
       "      <td>2769</td>\n",
       "      <td>16</td>\n",
       "      <td>8</td>\n",
       "      <td>11</td>\n",
       "      <td>2</td>\n",
       "    </tr>\n",
       "    <tr>\n",
       "      <th>4</th>\n",
       "      <td>1821</td>\n",
       "      <td>1.2</td>\n",
       "      <td>13</td>\n",
       "      <td>44</td>\n",
       "      <td>0.6</td>\n",
       "      <td>141</td>\n",
       "      <td>2</td>\n",
       "      <td>14</td>\n",
       "      <td>1208</td>\n",
       "      <td>1212</td>\n",
       "      <td>1411</td>\n",
       "      <td>8</td>\n",
       "      <td>2</td>\n",
       "      <td>15</td>\n",
       "      <td>1</td>\n",
       "    </tr>\n",
       "  </tbody>\n",
       "</table>\n",
       "</div>"
      ],
      "text/plain": [
       "   battery_power  clock_speed  fc  int_memory  m_dep  mobile_wt  n_cores  pc  \\\n",
       "0            842          2.2   1           7    0.6        188        2   2   \n",
       "1           1021          0.5   0          53    0.7        136        3   6   \n",
       "2            563          0.5   2          41    0.9        145        5   6   \n",
       "3            615          2.5   0          10    0.8        131        6   9   \n",
       "4           1821          1.2  13          44    0.6        141        2  14   \n",
       "\n",
       "   px_height  px_width   ram  sc_h  sc_w  talk_time  price_range  \n",
       "0         20       756  2549     9     7         19            1  \n",
       "1        905      1988  2631    17     3          7            2  \n",
       "2       1263      1716  2603    11     2          9            2  \n",
       "3       1216      1786  2769    16     8         11            2  \n",
       "4       1208      1212  1411     8     2         15            1  "
      ]
     },
     "execution_count": 4,
     "metadata": {},
     "output_type": "execute_result"
    }
   ],
   "source": [
    "mob = pd.read_csv('Mobile_data.csv')\n",
    "mob.head()"
   ]
  },
  {
   "cell_type": "code",
   "execution_count": 5,
   "id": "1bb0fdda",
   "metadata": {},
   "outputs": [
    {
     "name": "stdout",
     "output_type": "stream",
     "text": [
      "<class 'pandas.core.frame.DataFrame'>\n",
      "RangeIndex: 2000 entries, 0 to 1999\n",
      "Data columns (total 15 columns):\n",
      " #   Column         Non-Null Count  Dtype  \n",
      "---  ------         --------------  -----  \n",
      " 0   battery_power  2000 non-null   int64  \n",
      " 1   clock_speed    2000 non-null   float64\n",
      " 2   fc             2000 non-null   int64  \n",
      " 3   int_memory     2000 non-null   int64  \n",
      " 4   m_dep          2000 non-null   float64\n",
      " 5   mobile_wt      2000 non-null   int64  \n",
      " 6   n_cores        2000 non-null   int64  \n",
      " 7   pc             2000 non-null   int64  \n",
      " 8   px_height      2000 non-null   int64  \n",
      " 9   px_width       2000 non-null   int64  \n",
      " 10  ram            2000 non-null   int64  \n",
      " 11  sc_h           2000 non-null   int64  \n",
      " 12  sc_w           2000 non-null   int64  \n",
      " 13  talk_time      2000 non-null   int64  \n",
      " 14  price_range    2000 non-null   int64  \n",
      "dtypes: float64(2), int64(13)\n",
      "memory usage: 234.5 KB\n"
     ]
    }
   ],
   "source": [
    "mob.info()"
   ]
  },
  {
   "cell_type": "code",
   "execution_count": 6,
   "id": "e5e698b6",
   "metadata": {},
   "outputs": [
    {
     "data": {
      "text/plain": [
       "int64      13\n",
       "float64     2\n",
       "dtype: int64"
      ]
     },
     "execution_count": 6,
     "metadata": {},
     "output_type": "execute_result"
    }
   ],
   "source": [
    "mob.dtypes.value_counts()"
   ]
  },
  {
   "cell_type": "code",
   "execution_count": 7,
   "id": "9881b0f8",
   "metadata": {},
   "outputs": [
    {
     "data": {
      "text/plain": [
       "(2000, 15)"
      ]
     },
     "execution_count": 7,
     "metadata": {},
     "output_type": "execute_result"
    }
   ],
   "source": [
    "mob.shape"
   ]
  },
  {
   "cell_type": "code",
   "execution_count": 8,
   "id": "aed63b17",
   "metadata": {},
   "outputs": [
    {
     "data": {
      "text/plain": [
       "battery_power    0\n",
       "clock_speed      0\n",
       "fc               0\n",
       "int_memory       0\n",
       "m_dep            0\n",
       "mobile_wt        0\n",
       "n_cores          0\n",
       "pc               0\n",
       "px_height        0\n",
       "px_width         0\n",
       "ram              0\n",
       "sc_h             0\n",
       "sc_w             0\n",
       "talk_time        0\n",
       "price_range      0\n",
       "dtype: int64"
      ]
     },
     "execution_count": 8,
     "metadata": {},
     "output_type": "execute_result"
    }
   ],
   "source": [
    "mob.isnull().sum()"
   ]
  },
  {
   "cell_type": "markdown",
   "id": "c2afee8c",
   "metadata": {},
   "source": [
    "No missing values in data set."
   ]
  },
  {
   "cell_type": "code",
   "execution_count": 9,
   "id": "651a7e4f",
   "metadata": {},
   "outputs": [
    {
     "data": {
      "image/png": "[encoded data removed]",
      "text/plain": [
       "<Figure size 432x288 with 1 Axes>"
      ]
     },
     "metadata": {
      "needs_background": "light"
     },
     "output_type": "display_data"
    }
   ],
   "source": [
    "mob['battery_power'].plot(kind = 'hist', cmap = 'Spectral', edgecolor = 'y')\n",
    "plt.xlabel('battery power')\n",
    "plt.show()"
   ]
  },
  {
   "cell_type": "code",
   "execution_count": 10,
   "id": "cb02dbb7",
   "metadata": {},
   "outputs": [
    {
     "data": {
      "image/png": "[encoded data removed]",
      "text/plain": [
       "<Figure size 720x360 with 1 Axes>"
      ]
     },
     "metadata": {
      "needs_background": "light"
     },
     "output_type": "display_data"
    }
   ],
   "source": [
    "plt.figure(figsize = [10,5])\n",
    "sns.countplot(x = mob['clock_speed'], data = mob, palette = 'tab20')\n",
    "plt.show()"
   ]
  },
  {
   "cell_type": "code",
   "execution_count": 11,
   "id": "d5dc3190",
   "metadata": {},
   "outputs": [
    {
     "data": {
      "text/plain": [
       "array([ 1,  0,  2, 13,  3,  4,  5,  7, 11, 12, 16,  6, 15,  8,  9, 10, 18,\n",
       "       17, 14, 19], dtype=int64)"
      ]
     },
     "execution_count": 11,
     "metadata": {},
     "output_type": "execute_result"
    }
   ],
   "source": [
    "mob['fc'].unique()"
   ]
  },
  {
   "cell_type": "code",
   "execution_count": 12,
   "id": "f155733e",
   "metadata": {},
   "outputs": [
    {
     "data": {
      "image/png": "[encoded data removed]",
      "text/plain": [
       "<Figure size 720x360 with 1 Axes>"
      ]
     },
     "metadata": {
      "needs_background": "light"
     },
     "output_type": "display_data"
    }
   ],
   "source": [
    "plt.figure(figsize = [10,5])\n",
    "sns.countplot(x = mob['fc'], data = mob, palette = 'Accent')\n",
    "plt.show()"
   ]
  },
  {
   "cell_type": "code",
   "execution_count": 13,
   "id": "c6249cd2",
   "metadata": {},
   "outputs": [
    {
     "data": {
      "text/plain": [
       "63"
      ]
     },
     "execution_count": 13,
     "metadata": {},
     "output_type": "execute_result"
    }
   ],
   "source": [
    "mob['int_memory'].nunique()"
   ]
  },
  {
   "cell_type": "code",
   "execution_count": 14,
   "id": "574ad81b",
   "metadata": {},
   "outputs": [
    {
     "data": {
      "text/plain": [
       "array([0.6, 0.7, 0.9, 0.8, 0.1, 0.5, 1. , 0.3, 0.4, 0.2])"
      ]
     },
     "execution_count": 14,
     "metadata": {},
     "output_type": "execute_result"
    }
   ],
   "source": [
    "mob['m_dep'].unique()"
   ]
  },
  {
   "cell_type": "code",
   "execution_count": 15,
   "id": "02376eb7",
   "metadata": {},
   "outputs": [
    {
     "data": {
      "image/png": "[encoded data removed]",
      "text/plain": [
       "<Figure size 720x360 with 1 Axes>"
      ]
     },
     "metadata": {
      "needs_background": "light"
     },
     "output_type": "display_data"
    }
   ],
   "source": [
    "plt.figure(figsize = [10,5])\n",
    "sns.countplot(x = mob['m_dep'], data = mob, palette = 'Set3')\n",
    "plt.show()"
   ]
  },
  {
   "cell_type": "code",
   "execution_count": 16,
   "id": "ede1b939",
   "metadata": {},
   "outputs": [
    {
     "data": {
      "image/png": "[encoded data removed]",
      "text/plain": [
       "<Figure size 432x288 with 1 Axes>"
      ]
     },
     "metadata": {
      "needs_background": "light"
     },
     "output_type": "display_data"
    }
   ],
   "source": [
    "mob['mobile_wt'].value_counts().plot(kind = 'hist', cmap = 'Wistia', edgecolor = 'r')\n",
    "plt.xlabel('mobile_wt')\n",
    "plt.show()"
   ]
  },
  {
   "cell_type": "code",
   "execution_count": 17,
   "id": "5a2109aa",
   "metadata": {},
   "outputs": [
    {
     "data": {
      "text/plain": [
       "array([2, 3, 5, 6, 1, 8, 4, 7], dtype=int64)"
      ]
     },
     "execution_count": 17,
     "metadata": {},
     "output_type": "execute_result"
    }
   ],
   "source": [
    "mob['n_cores'].unique()"
   ]
  },
  {
   "cell_type": "code",
   "execution_count": 18,
   "id": "41c6bcc5",
   "metadata": {},
   "outputs": [
    {
     "data": {
      "image/png": "[encoded data removed]",
      "text/plain": [
       "<Figure size 720x360 with 1 Axes>"
      ]
     },
     "metadata": {
      "needs_background": "light"
     },
     "output_type": "display_data"
    }
   ],
   "source": [
    "plt.figure(figsize = [10,5])\n",
    "sns.countplot(x = mob['n_cores'], data = mob, palette = 'tab20b')\n",
    "plt.show()"
   ]
  },
  {
   "cell_type": "code",
   "execution_count": 19,
   "id": "4191738f",
   "metadata": {},
   "outputs": [
    {
     "data": {
      "text/plain": [
       "array([ 2,  6,  9, 14,  7, 10,  0, 15,  1, 18, 17, 11, 16,  4, 20, 13,  3,\n",
       "       19,  8,  5, 12], dtype=int64)"
      ]
     },
     "execution_count": 19,
     "metadata": {},
     "output_type": "execute_result"
    }
   ],
   "source": [
    "mob['pc'].unique()"
   ]
  },
  {
   "cell_type": "code",
   "execution_count": 20,
   "id": "3164b067",
   "metadata": {},
   "outputs": [
    {
     "data": {
      "image/png": "[encoded data removed]",
      "text/plain": [
       "<Figure size 720x360 with 1 Axes>"
      ]
     },
     "metadata": {
      "needs_background": "light"
     },
     "output_type": "display_data"
    }
   ],
   "source": [
    "plt.figure(figsize = [10,5])\n",
    "sns.countplot(x = mob['pc'], data = mob, palette = 'tab20c')\n",
    "plt.show()"
   ]
  },
  {
   "cell_type": "code",
   "execution_count": 21,
   "id": "b32ca4d6",
   "metadata": {},
   "outputs": [
    {
     "data": {
      "text/plain": [
       "array([ 9, 17, 11, 16,  8, 13, 19,  5, 14, 18,  7, 10, 12,  6, 15],\n",
       "      dtype=int64)"
      ]
     },
     "execution_count": 21,
     "metadata": {},
     "output_type": "execute_result"
    }
   ],
   "source": [
    "mob['sc_h'].unique()"
   ]
  },
  {
   "cell_type": "code",
   "execution_count": 22,
   "id": "c7c97d47",
   "metadata": {},
   "outputs": [
    {
     "data": {
      "image/png": "[encoded data removed]",
      "text/plain": [
       "<Figure size 720x360 with 1 Axes>"
      ]
     },
     "metadata": {
      "needs_background": "light"
     },
     "output_type": "display_data"
    },
    {
     "data": {
      "image/png": "[encoded data removed]",
      "text/plain": [
       "<Figure size 720x360 with 1 Axes>"
      ]
     },
     "metadata": {
      "needs_background": "light"
     },
     "output_type": "display_data"
    }
   ],
   "source": [
    "plt.figure(figsize = [10,5])\n",
    "sns.countplot(x = mob['sc_h'], data = mob, palette = 'Pastel1')\n",
    "plt.show()\n",
    "\n",
    "plt.figure(figsize = [10,5])\n",
    "sns.countplot(x = mob['sc_w'], data = mob, palette = 'Pastel2')\n",
    "plt.show()"
   ]
  },
  {
   "cell_type": "code",
   "execution_count": 23,
   "id": "177cf2a9",
   "metadata": {},
   "outputs": [
    {
     "data": {
      "text/plain": [
       "array([19,  7,  9, 11, 15, 10, 18,  5, 20, 12, 13,  2,  4,  3, 16,  6, 14,\n",
       "       17,  8], dtype=int64)"
      ]
     },
     "execution_count": 23,
     "metadata": {},
     "output_type": "execute_result"
    }
   ],
   "source": [
    "mob['talk_time'].unique()"
   ]
  },
  {
   "cell_type": "code",
   "execution_count": 24,
   "id": "4557e38f",
   "metadata": {},
   "outputs": [
    {
     "data": {
      "image/png": "[encoded data removed]",
      "text/plain": [
       "<Figure size 720x360 with 1 Axes>"
      ]
     },
     "metadata": {
      "needs_background": "light"
     },
     "output_type": "display_data"
    }
   ],
   "source": [
    "plt.figure(figsize = [10,5])\n",
    "sns.countplot(x = mob['talk_time'], data = mob, palette = 'nipy_spectral')\n",
    "plt.show()"
   ]
  },
  {
   "cell_type": "code",
   "execution_count": 25,
   "id": "e4e746c4",
   "metadata": {},
   "outputs": [
    {
     "data": {
      "text/plain": [
       "array([1, 2, 3, 0], dtype=int64)"
      ]
     },
     "execution_count": 25,
     "metadata": {},
     "output_type": "execute_result"
    }
   ],
   "source": [
    "mob['price_range'].unique()"
   ]
  },
  {
   "cell_type": "code",
   "execution_count": 26,
   "id": "609a81b8",
   "metadata": {},
   "outputs": [
    {
     "data": {
      "image/png": "[encoded data removed]",
      "text/plain": [
       "<Figure size 360x360 with 1 Axes>"
      ]
     },
     "metadata": {},
     "output_type": "display_data"
    }
   ],
   "source": [
    "plt.figure(figsize = [5,5])\n",
    "plt.pie(mob['price_range'].value_counts(), autopct = '%0.2f%%', labels = mob['price_range'].value_counts().index,\n",
    "        explode = [0.05,0.05,0.05,0.05], colors = ['#FF7F24', '#FFB90F', '#A2CD5A', '#BF3EFF'])\n",
    "plt.title('Chest Pain')\n",
    "plt.show()"
   ]
  },
  {
   "cell_type": "code",
   "execution_count": 27,
   "id": "f3f2629b",
   "metadata": {},
   "outputs": [
    {
     "data": {
      "text/plain": [
       "Index(['battery_power', 'clock_speed', 'fc', 'int_memory', 'm_dep',\n",
       "       'mobile_wt', 'n_cores', 'pc', 'px_height', 'px_width', 'ram', 'sc_h',\n",
       "       'sc_w', 'talk_time', 'price_range'],\n",
       "      dtype='object')"
      ]
     },
     "execution_count": 27,
     "metadata": {},
     "output_type": "execute_result"
    }
   ],
   "source": [
    "mob.columns"
   ]
  },
  {
   "cell_type": "code",
   "execution_count": 28,
   "id": "8a967f03",
   "metadata": {},
   "outputs": [
    {
     "data": {
      "image/png": "[encoded data removed]",
      "text/plain": [
       "<Figure size 1080x504 with 2 Axes>"
      ]
     },
     "metadata": {
      "needs_background": "light"
     },
     "output_type": "display_data"
    }
   ],
   "source": [
    "# Checking correlation among numeral variables\n",
    "corr = mob.corr()\n",
    "plt.figure(figsize = [15,7])\n",
    "sns.heatmap(corr, annot = True, cmap = 'YlOrBr', fmt = '0.2f')\n",
    "plt.show()"
   ]
  },
  {
   "cell_type": "code",
   "execution_count": 29,
   "id": "f6d700c6",
   "metadata": {},
   "outputs": [
    {
     "data": {
      "text/html": [
       "<div>\n",
       "<style scoped>\n",
       "    .dataframe tbody tr th:only-of-type {\n",
       "        vertical-align: middle;\n",
       "    }\n",
       "\n",
       "    .dataframe tbody tr th {\n",
       "        vertical-align: top;\n",
       "    }\n",
       "\n",
       "    .dataframe thead th {\n",
       "        text-align: right;\n",
       "    }\n",
       "</style>\n",
       "<table border=\"1\" class=\"dataframe\">\n",
       "  <thead>\n",
       "    <tr style=\"text-align: right;\">\n",
       "      <th></th>\n",
       "      <th>count</th>\n",
       "      <th>mean</th>\n",
       "      <th>std</th>\n",
       "      <th>min</th>\n",
       "      <th>1%</th>\n",
       "      <th>2%</th>\n",
       "      <th>3%</th>\n",
       "      <th>4%</th>\n",
       "      <th>5%</th>\n",
       "      <th>25%</th>\n",
       "      <th>50%</th>\n",
       "      <th>75%</th>\n",
       "      <th>95%</th>\n",
       "      <th>96%</th>\n",
       "      <th>97%</th>\n",
       "      <th>98%</th>\n",
       "      <th>99%</th>\n",
       "      <th>max</th>\n",
       "    </tr>\n",
       "  </thead>\n",
       "  <tbody>\n",
       "    <tr>\n",
       "      <th>battery_power</th>\n",
       "      <td>2000.0</td>\n",
       "      <td>1238.51850</td>\n",
       "      <td>439.418206</td>\n",
       "      <td>501.0</td>\n",
       "      <td>510.00</td>\n",
       "      <td>524.96</td>\n",
       "      <td>538.97</td>\n",
       "      <td>556.92</td>\n",
       "      <td>570.95</td>\n",
       "      <td>851.75</td>\n",
       "      <td>1226.0</td>\n",
       "      <td>1615.25</td>\n",
       "      <td>1930.15</td>\n",
       "      <td>1946.08</td>\n",
       "      <td>1961.06</td>\n",
       "      <td>1974.00</td>\n",
       "      <td>1987.00</td>\n",
       "      <td>1998.0</td>\n",
       "    </tr>\n",
       "    <tr>\n",
       "      <th>clock_speed</th>\n",
       "      <td>2000.0</td>\n",
       "      <td>1.52225</td>\n",
       "      <td>0.816004</td>\n",
       "      <td>0.5</td>\n",
       "      <td>0.50</td>\n",
       "      <td>0.50</td>\n",
       "      <td>0.50</td>\n",
       "      <td>0.50</td>\n",
       "      <td>0.50</td>\n",
       "      <td>0.70</td>\n",
       "      <td>1.5</td>\n",
       "      <td>2.20</td>\n",
       "      <td>2.80</td>\n",
       "      <td>2.90</td>\n",
       "      <td>2.90</td>\n",
       "      <td>2.90</td>\n",
       "      <td>3.00</td>\n",
       "      <td>3.0</td>\n",
       "    </tr>\n",
       "    <tr>\n",
       "      <th>fc</th>\n",
       "      <td>2000.0</td>\n",
       "      <td>4.30950</td>\n",
       "      <td>4.341444</td>\n",
       "      <td>0.0</td>\n",
       "      <td>0.00</td>\n",
       "      <td>0.00</td>\n",
       "      <td>0.00</td>\n",
       "      <td>0.00</td>\n",
       "      <td>0.00</td>\n",
       "      <td>1.00</td>\n",
       "      <td>3.0</td>\n",
       "      <td>7.00</td>\n",
       "      <td>13.00</td>\n",
       "      <td>14.00</td>\n",
       "      <td>15.00</td>\n",
       "      <td>16.00</td>\n",
       "      <td>16.00</td>\n",
       "      <td>19.0</td>\n",
       "    </tr>\n",
       "    <tr>\n",
       "      <th>int_memory</th>\n",
       "      <td>2000.0</td>\n",
       "      <td>32.04650</td>\n",
       "      <td>18.145715</td>\n",
       "      <td>2.0</td>\n",
       "      <td>2.00</td>\n",
       "      <td>2.00</td>\n",
       "      <td>3.00</td>\n",
       "      <td>4.00</td>\n",
       "      <td>5.00</td>\n",
       "      <td>16.00</td>\n",
       "      <td>32.0</td>\n",
       "      <td>48.00</td>\n",
       "      <td>61.00</td>\n",
       "      <td>62.00</td>\n",
       "      <td>63.00</td>\n",
       "      <td>63.00</td>\n",
       "      <td>64.00</td>\n",
       "      <td>64.0</td>\n",
       "    </tr>\n",
       "    <tr>\n",
       "      <th>m_dep</th>\n",
       "      <td>2000.0</td>\n",
       "      <td>0.50175</td>\n",
       "      <td>0.288416</td>\n",
       "      <td>0.1</td>\n",
       "      <td>0.10</td>\n",
       "      <td>0.10</td>\n",
       "      <td>0.10</td>\n",
       "      <td>0.10</td>\n",
       "      <td>0.10</td>\n",
       "      <td>0.20</td>\n",
       "      <td>0.5</td>\n",
       "      <td>0.80</td>\n",
       "      <td>1.00</td>\n",
       "      <td>1.00</td>\n",
       "      <td>1.00</td>\n",
       "      <td>1.00</td>\n",
       "      <td>1.00</td>\n",
       "      <td>1.0</td>\n",
       "    </tr>\n",
       "    <tr>\n",
       "      <th>mobile_wt</th>\n",
       "      <td>2000.0</td>\n",
       "      <td>140.24900</td>\n",
       "      <td>35.399655</td>\n",
       "      <td>80.0</td>\n",
       "      <td>80.00</td>\n",
       "      <td>82.00</td>\n",
       "      <td>83.00</td>\n",
       "      <td>84.00</td>\n",
       "      <td>86.00</td>\n",
       "      <td>109.00</td>\n",
       "      <td>141.0</td>\n",
       "      <td>170.00</td>\n",
       "      <td>196.00</td>\n",
       "      <td>197.00</td>\n",
       "      <td>198.00</td>\n",
       "      <td>199.00</td>\n",
       "      <td>199.00</td>\n",
       "      <td>200.0</td>\n",
       "    </tr>\n",
       "    <tr>\n",
       "      <th>n_cores</th>\n",
       "      <td>2000.0</td>\n",
       "      <td>4.52050</td>\n",
       "      <td>2.287837</td>\n",
       "      <td>1.0</td>\n",
       "      <td>1.00</td>\n",
       "      <td>1.00</td>\n",
       "      <td>1.00</td>\n",
       "      <td>1.00</td>\n",
       "      <td>1.00</td>\n",
       "      <td>3.00</td>\n",
       "      <td>4.0</td>\n",
       "      <td>7.00</td>\n",
       "      <td>8.00</td>\n",
       "      <td>8.00</td>\n",
       "      <td>8.00</td>\n",
       "      <td>8.00</td>\n",
       "      <td>8.00</td>\n",
       "      <td>8.0</td>\n",
       "    </tr>\n",
       "    <tr>\n",
       "      <th>pc</th>\n",
       "      <td>2000.0</td>\n",
       "      <td>9.91650</td>\n",
       "      <td>6.064315</td>\n",
       "      <td>0.0</td>\n",
       "      <td>0.00</td>\n",
       "      <td>0.00</td>\n",
       "      <td>0.00</td>\n",
       "      <td>0.00</td>\n",
       "      <td>0.00</td>\n",
       "      <td>5.00</td>\n",
       "      <td>10.0</td>\n",
       "      <td>15.00</td>\n",
       "      <td>20.00</td>\n",
       "      <td>20.00</td>\n",
       "      <td>20.00</td>\n",
       "      <td>20.00</td>\n",
       "      <td>20.00</td>\n",
       "      <td>20.0</td>\n",
       "    </tr>\n",
       "    <tr>\n",
       "      <th>px_height</th>\n",
       "      <td>2000.0</td>\n",
       "      <td>645.10800</td>\n",
       "      <td>443.780811</td>\n",
       "      <td>0.0</td>\n",
       "      <td>15.00</td>\n",
       "      <td>30.98</td>\n",
       "      <td>45.97</td>\n",
       "      <td>58.00</td>\n",
       "      <td>70.95</td>\n",
       "      <td>282.75</td>\n",
       "      <td>564.0</td>\n",
       "      <td>947.25</td>\n",
       "      <td>1485.05</td>\n",
       "      <td>1568.04</td>\n",
       "      <td>1618.03</td>\n",
       "      <td>1698.00</td>\n",
       "      <td>1791.01</td>\n",
       "      <td>1960.0</td>\n",
       "    </tr>\n",
       "    <tr>\n",
       "      <th>px_width</th>\n",
       "      <td>2000.0</td>\n",
       "      <td>1251.51550</td>\n",
       "      <td>432.199447</td>\n",
       "      <td>500.0</td>\n",
       "      <td>512.99</td>\n",
       "      <td>526.96</td>\n",
       "      <td>542.00</td>\n",
       "      <td>562.00</td>\n",
       "      <td>579.85</td>\n",
       "      <td>874.75</td>\n",
       "      <td>1247.0</td>\n",
       "      <td>1633.00</td>\n",
       "      <td>1929.05</td>\n",
       "      <td>1947.00</td>\n",
       "      <td>1963.00</td>\n",
       "      <td>1974.00</td>\n",
       "      <td>1987.00</td>\n",
       "      <td>1998.0</td>\n",
       "    </tr>\n",
       "    <tr>\n",
       "      <th>ram</th>\n",
       "      <td>2000.0</td>\n",
       "      <td>2124.21300</td>\n",
       "      <td>1084.732044</td>\n",
       "      <td>256.0</td>\n",
       "      <td>296.99</td>\n",
       "      <td>323.98</td>\n",
       "      <td>362.97</td>\n",
       "      <td>417.96</td>\n",
       "      <td>445.00</td>\n",
       "      <td>1207.50</td>\n",
       "      <td>2146.5</td>\n",
       "      <td>3064.50</td>\n",
       "      <td>3826.35</td>\n",
       "      <td>3864.04</td>\n",
       "      <td>3894.09</td>\n",
       "      <td>3922.06</td>\n",
       "      <td>3958.01</td>\n",
       "      <td>3998.0</td>\n",
       "    </tr>\n",
       "    <tr>\n",
       "      <th>sc_h</th>\n",
       "      <td>2000.0</td>\n",
       "      <td>12.30650</td>\n",
       "      <td>4.213245</td>\n",
       "      <td>5.0</td>\n",
       "      <td>5.00</td>\n",
       "      <td>5.00</td>\n",
       "      <td>5.00</td>\n",
       "      <td>5.00</td>\n",
       "      <td>6.00</td>\n",
       "      <td>9.00</td>\n",
       "      <td>12.0</td>\n",
       "      <td>16.00</td>\n",
       "      <td>19.00</td>\n",
       "      <td>19.00</td>\n",
       "      <td>19.00</td>\n",
       "      <td>19.00</td>\n",
       "      <td>19.00</td>\n",
       "      <td>19.0</td>\n",
       "    </tr>\n",
       "    <tr>\n",
       "      <th>sc_w</th>\n",
       "      <td>2000.0</td>\n",
       "      <td>5.76700</td>\n",
       "      <td>4.356398</td>\n",
       "      <td>0.0</td>\n",
       "      <td>0.00</td>\n",
       "      <td>0.00</td>\n",
       "      <td>0.00</td>\n",
       "      <td>0.00</td>\n",
       "      <td>0.00</td>\n",
       "      <td>2.00</td>\n",
       "      <td>5.0</td>\n",
       "      <td>9.00</td>\n",
       "      <td>14.00</td>\n",
       "      <td>15.00</td>\n",
       "      <td>15.00</td>\n",
       "      <td>16.00</td>\n",
       "      <td>17.00</td>\n",
       "      <td>18.0</td>\n",
       "    </tr>\n",
       "    <tr>\n",
       "      <th>talk_time</th>\n",
       "      <td>2000.0</td>\n",
       "      <td>11.01100</td>\n",
       "      <td>5.463955</td>\n",
       "      <td>2.0</td>\n",
       "      <td>2.00</td>\n",
       "      <td>2.00</td>\n",
       "      <td>2.00</td>\n",
       "      <td>2.00</td>\n",
       "      <td>3.00</td>\n",
       "      <td>6.00</td>\n",
       "      <td>11.0</td>\n",
       "      <td>16.00</td>\n",
       "      <td>20.00</td>\n",
       "      <td>20.00</td>\n",
       "      <td>20.00</td>\n",
       "      <td>20.00</td>\n",
       "      <td>20.00</td>\n",
       "      <td>20.0</td>\n",
       "    </tr>\n",
       "    <tr>\n",
       "      <th>price_range</th>\n",
       "      <td>2000.0</td>\n",
       "      <td>1.50000</td>\n",
       "      <td>1.118314</td>\n",
       "      <td>0.0</td>\n",
       "      <td>0.00</td>\n",
       "      <td>0.00</td>\n",
       "      <td>0.00</td>\n",
       "      <td>0.00</td>\n",
       "      <td>0.00</td>\n",
       "      <td>0.75</td>\n",
       "      <td>1.5</td>\n",
       "      <td>2.25</td>\n",
       "      <td>3.00</td>\n",
       "      <td>3.00</td>\n",
       "      <td>3.00</td>\n",
       "      <td>3.00</td>\n",
       "      <td>3.00</td>\n",
       "      <td>3.0</td>\n",
       "    </tr>\n",
       "  </tbody>\n",
       "</table>\n",
       "</div>"
      ],
      "text/plain": [
       "                count        mean          std    min      1%      2%      3%  \\\n",
       "battery_power  2000.0  1238.51850   439.418206  501.0  510.00  524.96  538.97   \n",
       "clock_speed    2000.0     1.52225     0.816004    0.5    0.50    0.50    0.50   \n",
       "fc             2000.0     4.30950     4.341444    0.0    0.00    0.00    0.00   \n",
       "int_memory     2000.0    32.04650    18.145715    2.0    2.00    2.00    3.00   \n",
       "m_dep          2000.0     0.50175     0.288416    0.1    0.10    0.10    0.10   \n",
       "mobile_wt      2000.0   140.24900    35.399655   80.0   80.00   82.00   83.00   \n",
       "n_cores        2000.0     4.52050     2.287837    1.0    1.00    1.00    1.00   \n",
       "pc             2000.0     9.91650     6.064315    0.0    0.00    0.00    0.00   \n",
       "px_height      2000.0   645.10800   443.780811    0.0   15.00   30.98   45.97   \n",
       "px_width       2000.0  1251.51550   432.199447  500.0  512.99  526.96  542.00   \n",
       "ram            2000.0  2124.21300  1084.732044  256.0  296.99  323.98  362.97   \n",
       "sc_h           2000.0    12.30650     4.213245    5.0    5.00    5.00    5.00   \n",
       "sc_w           2000.0     5.76700     4.356398    0.0    0.00    0.00    0.00   \n",
       "talk_time      2000.0    11.01100     5.463955    2.0    2.00    2.00    2.00   \n",
       "price_range    2000.0     1.50000     1.118314    0.0    0.00    0.00    0.00   \n",
       "\n",
       "                   4%      5%      25%     50%      75%      95%      96%  \\\n",
       "battery_power  556.92  570.95   851.75  1226.0  1615.25  1930.15  1946.08   \n",
       "clock_speed      0.50    0.50     0.70     1.5     2.20     2.80     2.90   \n",
       "fc               0.00    0.00     1.00     3.0     7.00    13.00    14.00   \n",
       "int_memory       4.00    5.00    16.00    32.0    48.00    61.00    62.00   \n",
       "m_dep            0.10    0.10     0.20     0.5     0.80     1.00     1.00   \n",
       "mobile_wt       84.00   86.00   109.00   141.0   170.00   196.00   197.00   \n",
       "n_cores          1.00    1.00     3.00     4.0     7.00     8.00     8.00   \n",
       "pc               0.00    0.00     5.00    10.0    15.00    20.00    20.00   \n",
       "px_height       58.00   70.95   282.75   564.0   947.25  1485.05  1568.04   \n",
       "px_width       562.00  579.85   874.75  1247.0  1633.00  1929.05  1947.00   \n",
       "ram            417.96  445.00  1207.50  2146.5  3064.50  3826.35  3864.04   \n",
       "sc_h             5.00    6.00     9.00    12.0    16.00    19.00    19.00   \n",
       "sc_w             0.00    0.00     2.00     5.0     9.00    14.00    15.00   \n",
       "talk_time        2.00    3.00     6.00    11.0    16.00    20.00    20.00   \n",
       "price_range      0.00    0.00     0.75     1.5     2.25     3.00     3.00   \n",
       "\n",
       "                   97%      98%      99%     max  \n",
       "battery_power  1961.06  1974.00  1987.00  1998.0  \n",
       "clock_speed       2.90     2.90     3.00     3.0  \n",
       "fc               15.00    16.00    16.00    19.0  \n",
       "int_memory       63.00    63.00    64.00    64.0  \n",
       "m_dep             1.00     1.00     1.00     1.0  \n",
       "mobile_wt       198.00   199.00   199.00   200.0  \n",
       "n_cores           8.00     8.00     8.00     8.0  \n",
       "pc               20.00    20.00    20.00    20.0  \n",
       "px_height      1618.03  1698.00  1791.01  1960.0  \n",
       "px_width       1963.00  1974.00  1987.00  1998.0  \n",
       "ram            3894.09  3922.06  3958.01  3998.0  \n",
       "sc_h             19.00    19.00    19.00    19.0  \n",
       "sc_w             15.00    16.00    17.00    18.0  \n",
       "talk_time        20.00    20.00    20.00    20.0  \n",
       "price_range       3.00     3.00     3.00     3.0  "
      ]
     },
     "execution_count": 29,
     "metadata": {},
     "output_type": "execute_result"
    }
   ],
   "source": [
    "# Checking Outliers\n",
    "mob.describe(percentiles = [0.01,0.02,0.03,0.04,0.05,0.25,0.50,0.75,0.95,0.96,0.97,0.98,0.99]).T"
   ]
  },
  {
   "cell_type": "code",
   "execution_count": 30,
   "id": "f0522c4a",
   "metadata": {},
   "outputs": [],
   "source": [
    "# Outliers Treatment\n",
    "mob['fc'] = np.where(mob['fc'] > 16.0, 16.0, mob['fc'])"
   ]
  },
  {
   "cell_type": "code",
   "execution_count": 31,
   "id": "306eb9e3",
   "metadata": {},
   "outputs": [],
   "source": [
    "mob['px_height'] = np.where(mob['px_height'] > 1791.01, 1791.01, mob['px_height'])\n",
    "mob['px_height'] = np.where(mob['px_height'] < 15.00, 15.00, mob['px_height'])"
   ]
  },
  {
   "cell_type": "code",
   "execution_count": 32,
   "id": "b296547a",
   "metadata": {},
   "outputs": [],
   "source": [
    "mob['sc_w'] = np.where(mob['sc_w'] == 0, np.nan, mob['sc_w'])"
   ]
  },
  {
   "cell_type": "code",
   "execution_count": 33,
   "id": "60925950",
   "metadata": {},
   "outputs": [
    {
     "data": {
      "text/plain": [
       "(6.337362637362637, 6.0)"
      ]
     },
     "execution_count": 33,
     "metadata": {},
     "output_type": "execute_result"
    }
   ],
   "source": [
    "mob['sc_w'].mean(), mob['sc_w'].median()"
   ]
  },
  {
   "cell_type": "code",
   "execution_count": 34,
   "id": "2d987c36",
   "metadata": {},
   "outputs": [],
   "source": [
    "# replacing 180 nan values with median\n",
    "mob['sc_w'].fillna(mob['sc_w'].median(), inplace = True)"
   ]
  },
  {
   "cell_type": "code",
   "execution_count": 35,
   "id": "8e3a4ef7",
   "metadata": {},
   "outputs": [],
   "source": [
    "y = mob['price_range']\n",
    "x = mob.drop(columns = ['price_range'])"
   ]
  },
  {
   "cell_type": "code",
   "execution_count": 36,
   "id": "b3908feb",
   "metadata": {},
   "outputs": [],
   "source": [
    "x_train, x_test, y_train, y_test = train_test_split(x, y, test_size=0.3, random_state=88)"
   ]
  },
  {
   "cell_type": "markdown",
   "id": "e8799c23",
   "metadata": {},
   "source": [
    "### K Nearest Neighbors Classifier"
   ]
  },
  {
   "cell_type": "code",
   "execution_count": 37,
   "id": "2fb4924d",
   "metadata": {},
   "outputs": [
    {
     "name": "stdout",
     "output_type": "stream",
     "text": [
      "Fitting 10 folds for each of 18 candidates, totalling 180 fits\n"
     ]
    },
    {
     "data": {
      "text/plain": [
       "GridSearchCV(cv=10, estimator=KNeighborsClassifier(), n_jobs=-1,\n",
       "             param_grid={'n_neighbors': [10, 11, 12, 13, 14, 15],\n",
       "                         'p': [1, 2, 3]},\n",
       "             verbose=1)"
      ]
     },
     "execution_count": 37,
     "metadata": {},
     "output_type": "execute_result"
    }
   ],
   "source": [
    "# Using GridSearch to find best parameters\n",
    "from sklearn.model_selection import GridSearchCV\n",
    "params = {'n_neighbors' : [10,11,12,13,14,15],\n",
    "          'p' : [1,2,3]}\n",
    "\n",
    "knn_cv = KNeighborsClassifier()\n",
    "Gsearch_knn = GridSearchCV(estimator = knn_cv, param_grid = params, cv = 10, n_jobs = -1, verbose = 1 )\n",
    "\n",
    "Gsearch_knn.fit(x_train, y_train)"
   ]
  },
  {
   "cell_type": "code",
   "execution_count": 38,
   "id": "aacdc945",
   "metadata": {},
   "outputs": [
    {
     "data": {
      "text/plain": [
       "{'n_neighbors': 13, 'p': 2}"
      ]
     },
     "execution_count": 38,
     "metadata": {},
     "output_type": "execute_result"
    }
   ],
   "source": [
    "Gsearch_knn.best_params_"
   ]
  },
  {
   "cell_type": "code",
   "execution_count": 39,
   "id": "1ceeb5c2",
   "metadata": {},
   "outputs": [
    {
     "name": "stdout",
     "output_type": "stream",
     "text": [
      "Train Score :  0.9492857142857143\n",
      "Test Score :  0.9416666666666667\n"
     ]
    }
   ],
   "source": [
    "knn = KNeighborsClassifier(n_neighbors=13, p= 2)\n",
    "knn.fit(x_train, y_train)\n",
    "print('Train Score : ', knn.score(x_train, y_train))\n",
    "print('Test Score : ', knn.score(x_test, y_test))"
   ]
  },
  {
   "cell_type": "code",
   "execution_count": 40,
   "id": "5c4b7c22",
   "metadata": {},
   "outputs": [],
   "source": [
    "def myKNN(kn, verbose=True):\n",
    "    k=[]\n",
    "    train_acc=[]\n",
    "    test_acc=[]\n",
    "    for i in range(1,kn,2):\n",
    "        knni=KNeighborsClassifier(n_neighbors=i)\n",
    "        knni.fit(x_train, y_train)\n",
    "        k.append(i)\n",
    "        ktt=knni.score(x_train, y_train)\n",
    "        ktst=knni.score(x_test, y_test)\n",
    "        diff=ktt-ktst\n",
    "        train_acc.append( ktt)\n",
    "        test_acc.append( ktst)\n",
    "        if verbose:\n",
    "            print(f\"for k= {i} : train score { round(ktt,3)} and test score {round( ktst,3)}\")\n",
    "\n",
    "    plt.plot(k, train_acc, label=\"Train Accuracy\", color=\"red\")\n",
    "    plt.plot(k, test_acc, label=\"Test Accuracy\", color=\"blue\")\n",
    "    plt.legend()\n",
    "    plt.xlabel(\"K\")\n",
    "    plt.ylabel(\"Scores\")\n",
    "    plt.show()\n",
    "          \n",
    "    return k, train_acc, test_acc\n"
   ]
  },
  {
   "cell_type": "code",
   "execution_count": 41,
   "id": "0c366a30",
   "metadata": {},
   "outputs": [
    {
     "name": "stdout",
     "output_type": "stream",
     "text": [
      "for k= 1 : train score 1.0 and test score 0.895\n",
      "for k= 3 : train score 0.959 and test score 0.907\n",
      "for k= 5 : train score 0.952 and test score 0.918\n",
      "for k= 7 : train score 0.95 and test score 0.93\n",
      "for k= 9 : train score 0.954 and test score 0.928\n",
      "for k= 11 : train score 0.947 and test score 0.932\n",
      "for k= 13 : train score 0.949 and test score 0.942\n",
      "for k= 15 : train score 0.943 and test score 0.933\n",
      "for k= 17 : train score 0.944 and test score 0.932\n",
      "for k= 19 : train score 0.945 and test score 0.927\n",
      "for k= 21 : train score 0.944 and test score 0.925\n",
      "for k= 23 : train score 0.939 and test score 0.927\n",
      "for k= 25 : train score 0.941 and test score 0.93\n",
      "for k= 27 : train score 0.939 and test score 0.925\n",
      "for k= 29 : train score 0.934 and test score 0.922\n"
     ]
    },
    {
     "data": {
      "image/png": "[encoded data removed]",
      "text/plain": [
       "<Figure size 432x288 with 1 Axes>"
      ]
     },
     "metadata": {
      "needs_background": "light"
     },
     "output_type": "display_data"
    }
   ],
   "source": [
    "k, train_acc, test_acc=myKNN(30, verbose=True)"
   ]
  },
  {
   "cell_type": "code",
   "execution_count": 42,
   "id": "bd2d4012",
   "metadata": {},
   "outputs": [],
   "source": [
    "pred_train=knn.predict(x_train)\n",
    "pred_test=knn.predict(x_test)"
   ]
  },
  {
   "cell_type": "code",
   "execution_count": 43,
   "id": "c3e4e335",
   "metadata": {},
   "outputs": [
    {
     "name": "stdout",
     "output_type": "stream",
     "text": [
      "              precision    recall  f1-score   support\n",
      "\n",
      "           0       0.98      0.98      0.98       348\n",
      "           1       0.93      0.95      0.94       346\n",
      "           2       0.91      0.93      0.92       352\n",
      "           3       0.98      0.94      0.96       354\n",
      "\n",
      "    accuracy                           0.95      1400\n",
      "   macro avg       0.95      0.95      0.95      1400\n",
      "weighted avg       0.95      0.95      0.95      1400\n",
      "\n"
     ]
    }
   ],
   "source": [
    "print(metrics.classification_report(y_train, pred_train)) "
   ]
  },
  {
   "cell_type": "code",
   "execution_count": 44,
   "id": "dac9fefb",
   "metadata": {},
   "outputs": [
    {
     "name": "stdout",
     "output_type": "stream",
     "text": [
      "              precision    recall  f1-score   support\n",
      "\n",
      "           0       0.96      0.99      0.97       152\n",
      "           1       0.95      0.91      0.93       154\n",
      "           2       0.89      0.93      0.91       148\n",
      "           3       0.96      0.94      0.95       146\n",
      "\n",
      "    accuracy                           0.94       600\n",
      "   macro avg       0.94      0.94      0.94       600\n",
      "weighted avg       0.94      0.94      0.94       600\n",
      "\n"
     ]
    }
   ],
   "source": [
    "print(metrics.classification_report(y_test, pred_test))"
   ]
  }
 ],
 "metadata": {
  "kernelspec": {
   "display_name": "Python 3 (ipykernel)",
   "language": "python",
   "name": "python3"
  },
  "language_info": {
   "codemirror_mode": {
    "name": "ipython",
    "version": 3
   },
   "file_extension": ".py",
   "mimetype": "text/x-python",
   "name": "python",
   "nbconvert_exporter": "python",
   "pygments_lexer": "ipython3",
   "version": "3.9.7"
  }
 },
 "nbformat": 4,
 "nbformat_minor": 5
}
